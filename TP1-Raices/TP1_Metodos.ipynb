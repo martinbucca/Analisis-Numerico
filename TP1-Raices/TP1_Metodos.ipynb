{
  "cells": [
    {
      "cell_type": "markdown",
      "metadata": {
        "id": "z_Dl9xXhmNjv"
      },
      "source": [
        "# Punto 2"
      ]
    },
    {
      "cell_type": "code",
      "execution_count": null,
      "metadata": {
        "id": "qSO-beBlmP5o"
      },
      "outputs": [],
      "source": [
        "import numpy as np\n",
        "def resolvente (a, b, c, tipo = \"Single\", dinamico = False):\n",
        "\tif tipo == \"Half\":\n",
        "\t\ta = np.half(a)\n",
        "\t\tb = np.half(b)\n",
        "\t\tc = np.half(c)\n",
        "\t\tc1 = np.half(4)\n",
        "\t\tc2 = np.half(2)\n",
        "\tif tipo == \"Single\":\n",
        "\t\ta = np.single(a)\n",
        "\t\tb = np.single(b)\n",
        "\t\tc = np.single(c)\n",
        "\t\tc1 = np.single(4)\n",
        "\t\tc2 = np.single(2)\n",
        "\tif tipo == \"Double\":\n",
        "\t\ta = np.double(a)\n",
        "\t\tb = np.double(b)\n",
        "\t\tc = np.double(c)\n",
        "\t\tc1 = np.double(4)\n",
        "\t\tc2 = np.double(2)\n",
        "\t\n",
        "\tdiscriminante = b*b-c1*a*c\n",
        "\t\n",
        "\tif dinamico :\n",
        "\t\tif b == -float(\"inf\") :\n",
        "\t\t\tsol1 = (-b+np.sqrt(discriminante))/(c2*a)\n",
        "\t\t\tsol2 = (-c2*c)/(b-np.sqrt(discriminante))\n",
        "\t\t\treturn (sol1, sol2)\n",
        "\t\n",
        "\t\tif b == float(\"inf\"):\n",
        "\t\t\tsol1 = (-c2*c)/(b+np.sqrt(discriminante))\n",
        "\t\t\tsol2 = (-b-np.sqrt(discriminante))/(c2*a)\n",
        "\t\t\treturn (sol1, sol2)\n",
        "\n",
        "\tif discriminante < 0:\n",
        "\t\treturn float(\"NaN\")\n",
        "\tif discriminante == 0:\n",
        "\t\treturn -b/(c2*a)\n",
        "\telse:\n",
        "\t\treturn ((-b+np.sqrt(discriminante))/(c2*a), (-b-np.sqrt(discriminante))/(c2*a))\n",
        "\n",
        "def pruebas_de_limites (tipo, dinamico):\n",
        "\tprint(\"\\nPruebas con \", tipo)\n",
        "\tprint(\"a = 1, c = -5/7\")\n",
        "\ti = 1\n",
        "\tsolu1 = resolvente(1,10**1,(-5/7),tipo,dinamico)\n",
        "\tprint(\"b = 10**\",i, \"    Raices:\", solu1)\n",
        "\twhile solu1[0] != float(\"inf\"):\n",
        "\t\ti += 1\n",
        "\t\tsolu1 = resolvente(1,10**i,(-5/7),tipo,dinamico)\n",
        "\t\tif i < 5:\n",
        "\t\t\tprint(\"b = 10**\",i, \"    Raices:\", solu1)\n",
        "\tif i > 5:\n",
        "\t\tprint(\"...\")\n",
        "\t\tsolu1 = resolvente(1,10**(i-1),(-5/7),tipo,dinamico)\n",
        "\t\tprint(\"b = 10**\",i-1, \"    Raices:\", solu1)\n",
        "\t\tsolu1 = resolvente(1,10**i,(-5/7),tipo,dinamico)\n",
        "\t\tprint(\"b = 10**\",i, \"    Raices:\", solu1)\n",
        "\tprint(\"Para\", tipo ,\"rompe con b = 10**\",i)\n",
        "\n",
        "def pruebas ():\n",
        "\n",
        "\tprint(\"\\nPruebas con dinamico\")\n",
        "\n",
        "\tprint(\"\\nPara b muy grande\")\n",
        "\n",
        "\tpruebas_de_limites(\"Half\", True)\n",
        "\tpruebas_de_limites(\"Single\", True)\n",
        "\tpruebas_de_limites(\"Double\", True)\n",
        "\n",
        "\tprint(\"\\nPruebas sin dinamico\")\n",
        "\n",
        "\tpruebas_de_limites(\"Half\", False)\n",
        "\tpruebas_de_limites(\"Single\", False)\n",
        "\tpruebas_de_limites(\"Double\", False)\n",
        "\n",
        "\n",
        "pruebas()"
      ]
    },
    {
      "cell_type": "markdown",
      "metadata": {
        "id": "rSUjeTy73l5W"
      },
      "source": [
        "## Funciones y derivadas"
      ]
    },
    {
      "cell_type": "code",
      "execution_count": 18,
      "metadata": {
        "id": "Hge-TAcx1qga"
      },
      "outputs": [],
      "source": [
        "# FUNCIONES Y DERIVADAS\n",
        "#f1(x)\n",
        "def f1(x):\n",
        "  return x**2 - 2\n",
        "def df1(x):\n",
        "  return 2*x\n",
        "def df1_segunda(x):\n",
        "  return 2\n",
        "#f2(x)\n",
        "def f2(x):\n",
        "  return x**5 - 6.6*(x**4) + 5.12*(x**3) + 21.312*(x**2) - 38.016*x + 17.28\n",
        "def df2(x):\n",
        "  return 5*(x**4) - 26.4*(x**3) + 15.36*(x**2) + 42.624*x - 38.016\n",
        "def df2_segunda(x):\n",
        "  return 20*(x**3) - 79.2*(x**2) + 30.72*x + 42.624\n",
        "#f3(x)\n",
        "def f3(x):\n",
        "  return ((x - 1.5) * (np.e ** (-4*((x-1.5)**2))))\n",
        "def df3(x):\n",
        "  return (-8*x + 12)*(x - 1.5)*(np.e**(-4*((x-1.5)**2))) + np.e**(-4*((x-1.5)**2))\n",
        "def df3_segunda(x):\n",
        "  return (-24*x + (x - 1.5)*((8*x - 12)**2) + 36)*np.e**(-4*((x-1.5)**2))"
      ]
    },
    {
      "cell_type": "markdown",
      "metadata": {
        "id": "F0wy-fqAuWHC"
      },
      "source": [
        "# a) Grafico de las funciones en el intervalo [0, 2]"
      ]
    },
    {
      "cell_type": "code",
      "execution_count": null,
      "metadata": {
        "id": "NuueSPiguddM"
      },
      "outputs": [],
      "source": [
        "import matplotlib.pyplot as plt\n",
        "import numpy as np\n",
        "from scipy import optimize\n",
        "X1 = X2 = X3 = np.linspace(0, 2, 1000)\n",
        "func, xs = [f1, f2, f3], [X1, X2, X3]\n",
        "colors = [\"magenta\", \"blue\", \"green\"]\n",
        "titles = [\"f1(x)\", \"f2(x)\", \"f3(x)\"]\n",
        "plt.figure(figsize=(12, 12))\n",
        "for i in range(3):\n",
        "  x_real = optimize.brentq(func[i], 0, 2)\n",
        "  subplot = plt.subplot(2, 2, i + 1)\n",
        "  subplot.axhline(y=0, color='k')\n",
        "  subplot.axvline(x=0, color='k')\n",
        "  subplot.set_title(titles[i], fontsize = 22, color = colors[i], loc = \"center\")\n",
        "  subplot.grid()\n",
        "  plt.scatter(x_real, 0 , 50,c='r')\n",
        "  plt.plot(xs[i], func[i](xs[i]), colors[i])\n",
        "\n",
        "plt.tight_layout()\n",
        "plt.show()"
      ]
    },
    {
      "cell_type": "markdown",
      "metadata": {
        "id": "ZdXsDU_uaByX"
      },
      "source": [
        "# Metodo de la biseccion"
      ]
    },
    {
      "cell_type": "code",
      "execution_count": null,
      "metadata": {
        "id": "bU2evWfcEiBn"
      },
      "outputs": [],
      "source": [
        "import numpy as np\n",
        "import pandas as pd\n",
        "from tabulate import tabulate\n",
        "from math import log\n",
        "\n",
        "def hallar_raiz_metodo_biseccion(f, borde_1, borde_2, error):\n",
        "    tabla_info = {\"f(xn)\": [],\"xn\": [], \"|xn - xn-1|\": []}\n",
        "    # Completamos la tabla con la info de x0\n",
        "    tabla_info[\"f(xn)\"].append(\"--\")\n",
        "    tabla_info[\"xn\"].append((borde_1 + borde_2)/2)\n",
        "    tabla_info[\"|xn - xn-1|\"].append(\"--\")\n",
        "    xn_nuevo = (borde_1 + borde_2)/2\n",
        "    x_borde = borde_2\n",
        "    xn = x_borde\n",
        "    iter = 0\n",
        "    while (abs(f(xn_nuevo)) != 0) and (abs(xn_nuevo - xn) >= error) and (iter <= log((borde_2 - borde_1)/error, 2)):\n",
        "     iter += 1\n",
        "     xn = xn_nuevo\n",
        "     xn_nuevo = (xn + x_borde)/2\n",
        "     if (f(xn)*f(xn_nuevo)<0):\n",
        "      x_borde = xn\n",
        "     tabla_info[\"f(xn)\"].append(f(xn_nuevo))\n",
        "     tabla_info[\"xn\"].append(xn_nuevo)\n",
        "     tabla_info[\"|xn - xn-1|\"].append(abs(xn_nuevo - xn))\n",
        "    return tabla_info\n",
        "     \n",
        "# IMPRESION DE LAS TABLAS ERROR 10**-5\n",
        "func = {\"f1(x)\": f1,\"f2(x)\": f2, \"f3(x)\": f3 }\n",
        "for f in func:\n",
        "  print(\"                                         {}\".format(f))\n",
        "  df = pd.DataFrame(hallar_raiz_metodo_biseccion(func[f], 0, 2, 1*(10**(-5))))\n",
        "  print(tabulate(df, headers = \"keys\", tablefmt=\"fancy_grid\"))\n",
        "\n",
        "# IMPRESION DE LAS TABLAS ERROR 10**-13\n",
        "func = {\"f1(x)\": f1,\"f2(x)\": f2, \"f3(x)\": f3 }\n",
        "for f in func:\n",
        "  print(\"                                         {}\".format(f))\n",
        "  df = pd.DataFrame(hallar_raiz_metodo_biseccion(func[f], 0, 2, 1*(10**(-13))))\n",
        "  print(tabulate(df, headers = \"keys\", tablefmt=\"fancy_grid\"))\n"
      ]
    },
    {
      "cell_type": "markdown",
      "metadata": {
        "id": "-pE_RyuriODq"
      },
      "source": [
        "Como vemos, tanto f2 como f3 con el método de la bisección convergen al valor exacto de la raíz en la misma cantidad de iteraciones aún con diferentes criterios de parada mientras que f1 llega a un valor muy cercano que cumple con la condicion en cada caso en una cantidad apropiada de iteraciones. Debido a la semilla elegida para la funcion 3 el metodo solo necesita de una iteracion para hallar la raiz."
      ]
    },
    {
      "cell_type": "markdown",
      "metadata": {
        "id": "D4_019lLgGnL"
      },
      "source": [
        "# Metodo de Punto Fijo"
      ]
    },
    {
      "cell_type": "code",
      "execution_count": null,
      "metadata": {
        "id": "KMitreZB-0Pj"
      },
      "outputs": [],
      "source": [
        "import numpy as np\n",
        "import pandas as pd\n",
        "from tabulate import tabulate\n",
        "\n",
        "def g1 (x):\n",
        "\treturn x - 0.5*(x**2-2)\n",
        "\n",
        "def g2 (x):\n",
        "  return x - f2(x)/df2(1.241)\n",
        "\n",
        "def g3 (x):\n",
        "\treturn x-(x-1.5)*np.e**(-4*(x-1.5)**2)\n",
        "\n",
        "def err (p, p0):\n",
        "\treturn abs(p-p0)\n",
        " \n",
        "def hallar_raiz_punto_fijo (fn, gn, p0, tol):\n",
        "  error = float(\"inf\")\n",
        "  tabla_info = {\"f(xn)\": [], \"xn\": [], \"|xn - xn-1|\": []} \n",
        "  tabla_info[\"f(xn)\"].append(fn(p0))\n",
        "  tabla_info[\"xn\"].append(p0)\n",
        "  tabla_info[\"|xn - xn-1|\"].append(\"--\")\n",
        "  while error >= tol and fn(p0) != 0:\n",
        "   p = gn(p0)\n",
        "   error = err(p, p0)\n",
        "   tabla_info[\"f(xn)\"].append(fn(p))\n",
        "   tabla_info[\"xn\"].append(p)\n",
        "   tabla_info[\"|xn - xn-1|\"].append(abs(error))\n",
        "   p0 = p\n",
        "  return tabla_info\n",
        "\n",
        "\n",
        "# IMPRESION DE LAS TABLAS ERROR 10**-5\n",
        "func = {\"f1(x)\": [f1, g1],\"f2(x)\": [f2, g2], \"f3(x)\": [f3, g3] }\n",
        "for f in func:\n",
        "  print(\"                                         {}\".format(f))\n",
        "  df = pd.DataFrame(hallar_raiz_punto_fijo(func[f][0], func[f][1], 1.1, 1*(10**(-5))))\n",
        "  print(tabulate(df, headers = \"keys\", tablefmt=\"fancy_grid\"))\n",
        "\n",
        "\n",
        "# IMPRESION DE LAS TABLAS ERROR 10**-13 (en g2 10**-5 sino se agota la memoria)\n",
        "func = {\"f1(x)\": [f1, g1],\"f2(x)\": [f2, g2], \"f3(x)\": [f3, g3] }\n",
        "for f in func:\n",
        "  print(\"                                         {}\".format(f))\n",
        "  if (func[f][0] == f2):\n",
        "    # Como no converge, mostramos algunas iteraciones para visualizarlo.\n",
        "    df = pd.DataFrame(hallar_raiz_punto_fijo(func[f][0], func[f][1], 1.1, 1*(10**(-5))))\n",
        "  else: \n",
        "   df = pd.DataFrame(hallar_raiz_punto_fijo(func[f][0], func[f][1], 1.1, 1*(10**(-13))))\n",
        "  print(tabulate(df, headers = \"keys\", tablefmt=\"fancy_grid\"))\n"
      ]
    },
    {
      "cell_type": "markdown",
      "metadata": {
        "id": "TlJPzOA1vCJQ"
      },
      "source": [
        "# Metodo de la secante"
      ]
    },
    {
      "cell_type": "code",
      "execution_count": null,
      "metadata": {
        "id": "2_I5iI6BvFgq"
      },
      "outputs": [],
      "source": [
        "import numpy as np\n",
        "import pandas as pd\n",
        "from tabulate import tabulate\n",
        "import matplotlib.pyplot as plt\n",
        "\n",
        "def hallar_raiz_metodo_secante(f, a, b, semilla_a, error):\n",
        "  tabla_info = {\"f(x_n-1)\": [], \"f(x_n-2)\": [], \"xn\": [], \"|xn - xn-1|\": []}\n",
        "  # Hacemos un paso mas de biseccion para obtener x1\n",
        "  semilla_b = (semilla_a + b) / 2\n",
        "  if f(semilla_b) * f(semilla_a) > 0:\n",
        "    semilla_b = (a + semilla_a) / 2\n",
        "  # Completamos la tabla con la info de x0 y x1\n",
        "  tabla_info[\"f(x_n-1)\"].extend([\"--\", f(semilla_b)])\n",
        "  tabla_info[\"f(x_n-2)\"].extend([\"--\", \"--\"])\n",
        "  tabla_info[\"xn\"].extend([semilla_a, semilla_b])\n",
        "  tabla_info[\"|xn - xn-1|\"].extend([\"--\", semilla_b - semilla_a])\n",
        "  x_anterior_anterior = semilla_a\n",
        "  x_anterior = semilla_b\n",
        "  iter = 2\n",
        "  # Mientras no se alcanze el error, se itera y completa la tabla\n",
        "  while abs(x_anterior - x_anterior_anterior) > error and iter < 100 and (f(x_anterior) - f(x_anterior_anterior)) != 0:\n",
        "    tabla_info[\"f(x_n-1)\"].append(f(x_anterior))\n",
        "    tabla_info[\"f(x_n-2)\"].append(f(x_anterior_anterior))\n",
        "    # Calculo xn con formula del metodo de la secante\n",
        "    xn = x_anterior - ((f(x_anterior)*(x_anterior - x_anterior_anterior))/(f(x_anterior) - f(x_anterior_anterior)))\n",
        "    tabla_info[\"xn\"].append(xn)\n",
        "    tabla_info[\"|xn - xn-1|\"].append(abs(xn - x_anterior))\n",
        "    # Actualizo valores del n - 1 y del n - 2 para la siguiente iteracion\n",
        "    x_anterior, x_anterior_anterior = xn, x_anterior\n",
        "    iter += 1\n",
        "  return tabla_info\n",
        "\n",
        "# IMPRESION DE LAS TABLAS 10**-5\n",
        "func = {\"f1(x)\": f1,\"f2(x)\": f2, \"f3(x)\": f3 }\n",
        "for f in func:\n",
        "  print(\"                                         {}\".format(f))\n",
        "  df = pd.DataFrame(hallar_raiz_metodo_secante(func[f], 0, 2, 1, 1*(10**(-5))))\n",
        "  print(tabulate(df, headers = \"keys\", tablefmt=\"fancy_grid\"))\n",
        "\n",
        "# IMPRESION DE LAS TABLAS 10**-13\n",
        "func = {\"f1(x)\": f1,\"f2(x)\": f2, \"f3(x)\": f3 }\n",
        "for f in func:\n",
        "  print(\"                                         {}\".format(f))\n",
        "  df = pd.DataFrame(hallar_raiz_metodo_secante(func[f], 0, 2, 1, 1*(10**(-13))))\n",
        "  print(tabulate(df, headers = \"keys\", tablefmt=\"fancy_grid\"))\n",
        "\n"
      ]
    },
    {
      "cell_type": "markdown",
      "source": [
        "Vemos que f1 con el primer criterio de paro tarda solo 4 iteraciones del metodo en converger y solo 5 en en llegar al error de 1 . 10 ^(-13), lo cual indica que el error entre iteraciones disminuye muy rapido. En f2, debido a las semilla elegidas tarda un poco mas y en el caso del error 1 . 10 ^(-13), el metodo no puede continuar y frena antes, debido a que es necesario que f evauluada en xn-1 - f evaluada en xn-2 sea distinto de cero y en la iteracion 37 ocurre esto. En f3 vemos que converge en la segunda iteracion y no llega a ni siquiera aplicar un paso del metodo porque como necesita hacer un paso mas de biseccion para hallar la segunda semilla, en este paso de biseccion la encuentra."
      ],
      "metadata": {
        "id": "_fKJFsq_A-tW"
      }
    },
    {
      "cell_type": "markdown",
      "metadata": {
        "id": "uUR-2czcD9vs"
      },
      "source": [
        "# Metodo de Newton Rapshon "
      ]
    },
    {
      "cell_type": "code",
      "execution_count": null,
      "metadata": {
        "id": "pN4_9uM-54Hs"
      },
      "outputs": [],
      "source": [
        "\n",
        "import numpy as np\n",
        "import pandas as pd\n",
        "from tabulate import tabulate\n",
        "\n",
        "def hallar_raiz_metodo_nr(f, df, semilla, error):\n",
        "  tabla_info = {\"f(xn)\": [],\"f'(xn)\": [],\"xn\": [], \"|xn - xn-1|\": []}\n",
        "  # Completamos la tabla con la info de x0\n",
        "  tabla_info[\"f(xn)\"].append(f(semilla))\n",
        "  tabla_info[\"f'(xn)\"].append(df(semilla))\n",
        "  tabla_info[\"xn\"].append(semilla)\n",
        "  tabla_info[\"|xn - xn-1|\"].append(\"--\")\n",
        "  x_anterior = 0\n",
        "  xn_nuevo = semilla\n",
        "  iter = 0\n",
        "  while (abs(xn_nuevo - x_anterior) > error) and iter < 100 and f(xn_nuevo) != 0:\n",
        "     iter += 1\n",
        "     x_anterior = xn_nuevo\n",
        "     xn_nuevo = x_anterior - (f(x_anterior)/df(x_anterior))\n",
        "     tabla_info[\"f(xn)\"].append(f(xn_nuevo))\n",
        "     tabla_info[\"f'(xn)\"].append(df(xn_nuevo))\n",
        "     tabla_info[\"xn\"].append(xn_nuevo)\n",
        "     tabla_info[\"|xn - xn-1|\"].append(abs(xn_nuevo - x_anterior))\n",
        "  return tabla_info\n",
        "\n",
        "# IMPRESION DE LAS TABLAS 10**-5\n",
        "func = {\"f1(x)\": [f1, df1],\"f2(x)\": [f2, df2], \"f3(x)\": [f3, df3] }\n",
        "for f in func:\n",
        "  print(\"                                         {}\".format(f))\n",
        "  df = pd.DataFrame(hallar_raiz_metodo_nr(func[f][0], func[f][1], 1, 1*(10**(-5))))\n",
        "  print(tabulate(df, headers = \"keys\", tablefmt=\"fancy_grid\"))\n",
        "\n",
        "# IMPRESION DE LAS TABLAS 10**-13\n",
        "func = {\"f1(x)\": [f1, df1],\"f2(x)\": [f2, df2], \"f3(x)\": [f3, df3] }\n",
        "for f in func:\n",
        "  print(\"                                         {}\".format(f))\n",
        "  df = pd.DataFrame(hallar_raiz_metodo_nr(func[f][0], func[f][1], 1, 1*(10**(-13))))\n",
        "  print(tabulate(df, headers = \"keys\", tablefmt=\"fancy_grid\"))"
      ]
    },
    {
      "cell_type": "markdown",
      "metadata": {
        "id": "N6eiHLpYmPOF"
      },
      "source": [
        "Debido a la semilla elegida, vemos que f1 converge muy rapido con este metodo tanto para un error menor que 1 . 10^(-5) como para un error de 1 . 10^(-13), que hace tan solo 2 iteraciones mas. En el caso de f2 vemos que necesita mas iteraciones ya que el error entre iteraciones va disminuyendo mas lento. Para el error de 1 . 10^(-13) halla la raiz en 34 iteraciones, 11 mas que con el error de 1 . 10^(-5). Para f3 vemos que con 100 iteraciones el error esta muy lejos del que queremos obtener y podemos concluir que con la semilla elegida, este metodo no converge para esta funcion."
      ]
    },
    {
      "cell_type": "markdown",
      "metadata": {
        "id": "CKf46QqAu1W0"
      },
      "source": [
        "# Metodo de Newton Rapshon modificado"
      ]
    },
    {
      "cell_type": "code",
      "execution_count": null,
      "metadata": {
        "id": "ZN6mFuJYu7dW"
      },
      "outputs": [],
      "source": [
        "import numpy as np\n",
        "import pandas as pd\n",
        "from tabulate import tabulate\n",
        "\n",
        "def hallar_raiz_metodo_nr_modificado(f, df, df_segunda, semilla, error):\n",
        "  tabla_info = {'f(xn)': [],\"xn\": [], \"|xn - xn-1|\": []}\n",
        "  # Completamos la tabla con la info de x0\n",
        "  tabla_info[\"f(xn)\"].append(f(semilla))\n",
        "  tabla_info[\"xn\"].append(semilla)\n",
        "  tabla_info[\"|xn - xn-1|\"].append(\"--\")\n",
        "  x_anterior = semilla\n",
        "  # calculo x1\n",
        "  xn = x_anterior - ((f(x_anterior)*df(x_anterior)) / (df(x_anterior)**2 - (f(x_anterior)*df_segunda(x_anterior))))\n",
        "  # Completamos la tabla con la info de x1\n",
        "  tabla_info[\"f(xn)\"].append(f(xn))\n",
        "  tabla_info[\"xn\"].append(xn)\n",
        "  tabla_info[\"|xn - xn-1|\"].append(np.abs(xn - x_anterior))\n",
        "  # Mientras no se alcanze el error, se itera y completa la tabla\n",
        "  iter = 1\n",
        "  while abs(xn - x_anterior) > error and iter < 100 and f(xn) != 0:\n",
        "    xn_nuevo = xn - ((f(xn)*df(xn)) / (df(xn)**2 - (f(xn)*df_segunda(xn))))\n",
        "    tabla_info[\"f(xn)\"].append(f(xn_nuevo))\n",
        "    tabla_info[\"xn\"].append(xn_nuevo)\n",
        "    tabla_info[\"|xn - xn-1|\"].append(abs(xn_nuevo - xn))\n",
        "    x_anterior, xn = xn, xn_nuevo\n",
        "    iter += 1\n",
        "  return tabla_info\n",
        "\n",
        "print()\n",
        "# IMPRESION DE LAS TABLAS 10**-5\n",
        "func = {\"f1(x)\": [f1, df1, df1_segunda],\"f2(x)\": [f2, df2, df2_segunda], \"f3(x)\": [f3, df3, df3_segunda] }\n",
        "for f in func:\n",
        "  print(\"                                         {}\".format(f))\n",
        "  if f == \"f3(x)\":\n",
        "    # NO CONVERGE!\n",
        "    print(\"f3(x) no converge con este metodo y semilla xo = 1\")\n",
        "    continue\n",
        "  df = pd.DataFrame(hallar_raiz_metodo_nr_modificado(func[f][0], func[f][1], func[f][2], 1, 1*(10**(-5))))\n",
        "  print(tabulate(df, headers = \"keys\", tablefmt=\"fancy_grid\"))\n",
        "\n",
        " # IMPRESION DE LAS TABLAS 10**-13\n",
        "func = {\"f1(x)\": [f1, df1, df1_segunda],\"f2(x)\": [f2, df2, df2_segunda], \"f3(x)\": [f3, df3, df3_segunda] }\n",
        "for f in func:\n",
        "  print(\"                                         {}\".format(f))\n",
        "  if f == \"f3(x)\":\n",
        "    # NO CONVERGE!\n",
        "    print(\"f3(x) no converge con este metodo y semilla xo = 1\")\n",
        "    continue\n",
        "  df = pd.DataFrame(hallar_raiz_metodo_nr_modificado(func[f][0], func[f][1], func[f][2], 1, 1*(10**(-13))))\n",
        "  print(tabulate(df, headers = \"keys\", tablefmt=\"fancy_grid\"))"
      ]
    },
    {
      "cell_type": "markdown",
      "metadata": {
        "id": "HB91ecL5plI8"
      },
      "source": [
        "En este caso, vemos que f1(x) converge en la misma cantidad de iteraciones que aplicando el metodo de Newton Raphson sin modificar mientras que f2(x) converge de forma aún más rápida, tardando 3 iteraciones con el criterio de paro de 1.10^(-5) y 7 iteraciones para el caso de 1.10^(-13). Por otra parte, f3(x) nuevamente no converge, debido a la semilla elegida."
      ]
    },
    {
      "cell_type": "markdown",
      "metadata": {
        "id": "GWRRSXob3yMm"
      },
      "source": [
        "### Metodos"
      ]
    },
    {
      "cell_type": "code",
      "execution_count": 10,
      "metadata": {
        "id": "BgKZzgYg30V9"
      },
      "outputs": [],
      "source": [
        "#Metodos funcion 1\n",
        "biseccion_1 = hallar_raiz_metodo_biseccion(f1, 0, 2, 1*10**-13)\n",
        "punto_fijo_1 = hallar_raiz_punto_fijo(f1, g1, 1,1*10**-13)\n",
        "newton_1 = hallar_raiz_metodo_nr(f1, df1, 1, 1*10**-13)\n",
        "secante_1 = hallar_raiz_metodo_secante(f1, 0, 2, 1, 1*10**-13)\n",
        "newton_modificado_1 = hallar_raiz_metodo_nr_modificado(f1, df1, df1, 1, 1*10**-13)\n",
        "#Metodos funcion 2\n",
        "biseccion_2 = hallar_raiz_metodo_biseccion(f2, 0, 2, 1*10**-13)\n",
        "punto_fijo_2 = hallar_raiz_punto_fijo(f2, g2,  1.1, 1*10**-5)\n",
        "newton_2 = hallar_raiz_metodo_nr(f2, df2, 1, 1*10**-13)\n",
        "secante_2 = hallar_raiz_metodo_secante(f2, 0, 2, 1, 1*10**-13)\n",
        "newton_modificado_2 = hallar_raiz_metodo_nr_modificado(f2, df2, df2, 1, 1*10**-13)\n",
        "#Metodos funcion 3\n",
        "biseccion_3 = hallar_raiz_metodo_biseccion(f3, 0, 2, 1*10**-13)\n",
        "punto_fijo_3 = hallar_raiz_punto_fijo(f3, g3,  1,11*10**-13)\n",
        "newton_3 = hallar_raiz_metodo_nr(f3, df3, 1, 1*10**-13)\n",
        "secante_3 = hallar_raiz_metodo_secante(f3, 0, 2, 1, 1*10**-5)\n",
        "newton_modificado_3 = hallar_raiz_metodo_nr_modificado(f3, df3, df3, 1, 1*10**-13)\n",
        "\n",
        "metodos1 = [biseccion_1, punto_fijo_1, secante_1, newton_1, newton_modificado_1] \n",
        "metodos2 = [biseccion_2, punto_fijo_2, secante_2,  newton_2, newton_modificado_2] \n",
        "metodos3 = [biseccion_3, punto_fijo_3, secante_3, newton_3, newton_modificado_3] \n"
      ]
    },
    {
      "cell_type": "markdown",
      "metadata": {
        "id": "ruRQByjW4f0q"
      },
      "source": [
        "# Orden de convergencia P vs iteraciones"
      ]
    },
    {
      "cell_type": "code",
      "execution_count": null,
      "metadata": {
        "id": "WghIL23-4jXw"
      },
      "outputs": [],
      "source": [
        "from math import log\n",
        "import numpy as np\n",
        "import matplotlib.pyplot as plt\n",
        "\n",
        "\n",
        "def orden_de_convergencia(metodos):\n",
        "  #armo una lista con 4 diccionarios donde en cada uno se guarda una lista con el log del error por cada iteracion que hace el metodo\n",
        "  info_grafico = [{'p': []}, {'p': []}, {'p': []}, {'p': []}, {'p': []}] \n",
        "  #por cada metodo\n",
        "  for i, metodo in enumerate(metodos):\n",
        "    #por cada iteracion del metodo\n",
        "    for j in range(2, len(metodo['xn']) - 1):\n",
        "      xn = metodo['xn'][j]\n",
        "      xn_post = metodo['xn'][j+1]\n",
        "      xn_ant = metodo['xn'][j-1]\n",
        "      xn_ant_ant = metodo['xn'][j-2]\n",
        "      info_grafico[i]['p'].append(log( np.abs((xn_post - xn)/(xn - xn_ant)) )/log( np.abs((xn - xn_ant)/(xn_ant - xn_ant_ant)) ) )\n",
        "  return info_grafico\n",
        "\n",
        "info_grafico_1 = orden_de_convergencia(metodos1)\n",
        "info_grafico_2 = orden_de_convergencia(metodos2)\n",
        "info_grafico_3 = orden_de_convergencia(metodos3)\n",
        "# Configuracion de subplots\n",
        "plt.figure(figsize=(15, 15))\n",
        "s1 = plt.subplot(2, 2, 1)\n",
        "s1.grid()\n",
        "s1.axhline(y=0, color='k')\n",
        "s1.axvline(x=0, color='k')\n",
        "s1.set_xlabel(\"iteraciones\")\n",
        "s1.set_ylabel(\"p\")\n",
        "s1.set_title('f1(x)', fontsize = 22, loc = \"center\")\n",
        "s2 = plt.subplot(2, 2, 2)\n",
        "s2.grid()\n",
        "s2.axhline(y=0, color='k')\n",
        "s2.axvline(x=0, color='k')\n",
        "s2.set_xlabel(\"iteraciones\")\n",
        "s2.set_ylabel(\"p\")\n",
        "s2.set_title('f2(x)', fontsize = 22, loc = \"center\")\n",
        "s3 = plt.subplot(2, 2, 3)\n",
        "s3.grid()\n",
        "s3.axhline(y=0, color='k')\n",
        "s3.axvline(x=0, color='k')\n",
        "s3.set_xlabel(\"iteraciones\")\n",
        "s3.set_ylabel(\"p\")\n",
        "s3.set_title('f3(x)', fontsize = 22, loc = \"center\")\n",
        "\n",
        "\n",
        "colors = ['m', 'b',  'y', 'c', 'r']\n",
        "metodos =  ['Biseccion', 'Punto fijo', 'Secante', 'Newton Rapshon', 'Newton Rapshon Modificado']\n",
        "\n",
        "for i in range(5): #5\n",
        "    iteraciones1 = range(2, len(metodos1[i]['xn']) - 1)\n",
        "    iteraciones2 = range(2, len(metodos2[i]['xn']) - 1)\n",
        "    iteraciones3 = range(2, len(metodos3[i]['xn']) - 1)\n",
        "    s1.plot(iteraciones1, info_grafico_1[i]['p'], colors[i], label=metodos[i])\n",
        "    if metodos[i] == 'Punto fijo':\n",
        "      continue\n",
        "    s2.plot(iteraciones2, info_grafico_2[i]['p'], colors[i], label=metodos[i])\n",
        "    if metodos[i] not in ('Biseccion', 'Secante'):\n",
        "      s3.plot(iteraciones3, info_grafico_3[i]['p'], colors[i], label=metodos[i])\n",
        "s1.legend(loc=\"upper right\")\n",
        "s2.plot([1], [0], label='Punto fijo no converge')\n",
        "s2.legend(loc=\"upper right\")\n",
        "s3.plot([0], [0], label='Biseccion y secante convergen en la primera iteracion')\n",
        "s3.legend(loc=\"upper right\")\n",
        "plt.tight_layout()\n",
        "plt.show()"
      ]
    },
    {
      "cell_type": "markdown",
      "source": [
        "# Orden de convergencia vs iteraciones (grafico manipulado)"
      ],
      "metadata": {
        "id": "i-wLAjqfY8TA"
      }
    },
    {
      "cell_type": "markdown",
      "source": [
        "### Metodos con valores modificados a criterio propio para observar graficos acordes a la teoria."
      ],
      "metadata": {
        "id": "sHBAXbDrY9sp"
      }
    },
    {
      "cell_type": "code",
      "source": [
        "#Se cambiaron semillas y/o criterios de paro originales\n",
        "#Metodos funcion 1\n",
        "biseccion_1m = hallar_raiz_metodo_biseccion(f1, 0, 2, 1*10**-13)\n",
        "punto_fijo_1m = hallar_raiz_punto_fijo(f1, g1, 1,1*10**-13)\n",
        "newton_1m = hallar_raiz_metodo_nr(f1, df1, 0.3, 1*10**-15)\n",
        "secante_1m = hallar_raiz_metodo_secante(f1, 0, 2, 1, 1*10**-13)\n",
        "newton_modificado_1m = hallar_raiz_metodo_nr_modificado(f1, df1, df1, 1.45, 1*10**-15)\n",
        "#Metodos funcion 2\n",
        "biseccion_2m = hallar_raiz_metodo_biseccion(f2, 0, 2, 1*10**-13)\n",
        "punto_fijo_2m = hallar_raiz_punto_fijo(f2, g2,  1.1, 1*10**-5)\n",
        "newton_2m = hallar_raiz_metodo_nr(f2, df2, 1.65, 1*10**-13)\n",
        "secante_2m = hallar_raiz_metodo_secante(f2, 0, 2, 1, 1*10**-13)\n",
        "newton_modificado_2m = hallar_raiz_metodo_nr_modificado(f2, df2, df2, 1.75, 1*10**-16)\n",
        "#Metodos funcion 3\n",
        "biseccion_3m = hallar_raiz_metodo_biseccion(f3, 0, 2, 1*10**-13)\n",
        "punto_fijo_3m = hallar_raiz_punto_fijo(f3, g3, 1,11*10**-13)\n",
        "newton_3m = hallar_raiz_metodo_nr(f3, df3, 1, 1*10**-13)\n",
        "secante_3m = hallar_raiz_metodo_secante(f3, 0, 2, 1, 1*10**-5)\n",
        "newton_modificado_3m = hallar_raiz_metodo_nr_modificado(f3, df3, df3, 1, 1*10**-13)\n",
        "\n",
        "metodos1m = [biseccion_1m, punto_fijo_1m, secante_1m, newton_1m, newton_modificado_1m] \n",
        "metodos2m = [biseccion_2m, punto_fijo_2m, secante_2m,  newton_2m, newton_modificado_2m] \n",
        "metodos3m = [biseccion_3m, punto_fijo_3m, secante_3m, newton_3m, newton_modificado_3m]"
      ],
      "metadata": {
        "id": "5at-AvTIZCTj"
      },
      "execution_count": 23,
      "outputs": []
    },
    {
      "cell_type": "markdown",
      "source": [
        "### Graficos"
      ],
      "metadata": {
        "id": "QT5jx7CMZLqd"
      }
    },
    {
      "cell_type": "code",
      "source": [
        "from math import log\n",
        "import numpy as np\n",
        "import matplotlib.pyplot as plt\n",
        "\n",
        "\n",
        "def orden_de_convergenciam(metodos):\n",
        "  #armo una lista con 4 diccionarios donde en cada uno se guarda una lista con el log del error por cada iteracion que hace el metodo\n",
        "  info_grafico = {'i': [[], [], [], [], []], 'p': [[], [], [], [], []]} \n",
        "  #por cada metodo\n",
        "  for i, metodo in enumerate(metodos):\n",
        "    #por cada iteracion del metodo\n",
        "    for j in range(2, len(metodo['xn']) - 1):\n",
        "      xn = metodo['xn'][j]\n",
        "      xn_post = metodo['xn'][j+1]\n",
        "      xn_ant = metodo['xn'][j-1]\n",
        "      xn_ant_ant = metodo['xn'][j-2]\n",
        "      p = log( np.abs((xn_post - xn)/(xn - xn_ant)) )/log( np.abs((xn - xn_ant)/(xn_ant - xn_ant_ant)) )\n",
        "      if 1 <= p <= 2:\n",
        "        info_grafico['i'][i].append(j)\n",
        "        info_grafico['p'][i].append(p)\n",
        "\n",
        "  return info_grafico\n",
        "\n",
        "info_grafico_1 = orden_de_convergenciam(metodos1m)\n",
        "info_grafico_2 = orden_de_convergenciam(metodos2m)\n",
        "info_grafico_3 = orden_de_convergencia(metodos3)\n",
        "# Configuracion de subplots\n",
        "plt.figure(figsize=(15, 15))\n",
        "s1 = plt.subplot(2, 2, 1)\n",
        "s1.grid()\n",
        "s1.axhline(y=0, color='k')\n",
        "s1.axvline(x=0, color='k')\n",
        "s1.set_xlabel(\"iteraciones\")\n",
        "s1.set_ylabel(\"p\")\n",
        "s1.set_title('f1(x)', fontsize = 22, loc = \"center\")\n",
        "s2 = plt.subplot(2, 2, 2)\n",
        "s2.grid()\n",
        "s2.axhline(y=0, color='k')\n",
        "s2.axvline(x=0, color='k')\n",
        "s2.set_xlabel(\"iteraciones\")\n",
        "s2.set_ylabel(\"p\")\n",
        "s2.set_title('f2(x)', fontsize = 22, loc = \"center\")\n",
        "s3 = plt.subplot(2, 2, 3)\n",
        "s3.grid()\n",
        "s3.axhline(y=0, color='k')\n",
        "s3.axvline(x=0, color='k')\n",
        "s3.set_xlabel(\"iteraciones\")\n",
        "s3.set_ylabel(\"p\")\n",
        "s3.set_title('f3(x)', fontsize = 22, loc = \"center\")\n",
        "\n",
        "\n",
        "colors = ['m', 'b',  'y', 'c', 'r']\n",
        "metodos =  ['Biseccion', 'Punto fijo', 'Secante', 'Newton Rapshon', 'Newton Rapshon Modificado']\n",
        "\n",
        "for i in range(5): #5\n",
        "    iteraciones3 = range(2, len(metodos3[i]['xn']) - 1)\n",
        "    s1.plot(info_grafico_1['i'][i], info_grafico_1['p'][i], colors[i], label=metodos[i])\n",
        "    if metodos[i] != 'Punto fijo':\n",
        "      s2.plot(info_grafico_2['i'][i], info_grafico_2['p'][i], colors[i], label=metodos[i])\n",
        "    if metodos[i] not in ('Biseccion', 'Secante', 'Punto fijo'):\n",
        "      s3.plot(iteraciones3, info_grafico_3[i]['p'], colors[i], label=metodos[i])\n",
        "s1.legend(loc=\"upper right\")\n",
        "s2.plot([1], [0], label='Punto fijo no converge')\n",
        "s2.legend(loc=\"upper left\")\n",
        "s1.set_ylim(0, 2.5)\n",
        "s2.set_ylim(0, 2)\n",
        "s3.set_ylim(0, 2)\n",
        "s3.plot([0], [0], label='Biseccion y secante convergen en la primera iteracion')\n",
        "s3.legend(loc=\"upper right\")\n",
        "plt.tight_layout()\n",
        "plt.show()"
      ],
      "metadata": {
        "id": "xLlmMUBBZJ39"
      },
      "execution_count": null,
      "outputs": []
    },
    {
      "cell_type": "markdown",
      "source": [
        "En estos graficos, manipulamos los valores de las semillas que toman los distintos metodos asi como los criterios de paro, para observar un orden de convergencia en funcion de las iteraciones acorde a lo que la teoria afirma sobre cada metodo. En este caso, se descartaron segun nuestro criterio todas las iteraciones en donde el orden daba mayor a 2 o menor a 1, salvo para la 3 funcion que queriamos mostrar que los metodos \"Newton\" y \"Newton modificado\" no convergen (su orden de convergencia tiende a 1 pero nunca llega). Asi los graficos observados son acordes a los visto en la teoria."
      ],
      "metadata": {
        "id": "AC233uAGZO_4"
      }
    },
    {
      "cell_type": "markdown",
      "metadata": {
        "id": "qB9AUHf8Jd9N"
      },
      "source": [
        "# Constante asintotica vs iteraciones"
      ]
    },
    {
      "cell_type": "code",
      "execution_count": null,
      "metadata": {
        "id": "KCajnWImC3vc"
      },
      "outputs": [],
      "source": [
        "from math import log\n",
        "import numpy as np\n",
        "import matplotlib.pyplot as plt\n",
        "from scipy import optimize\n",
        "\n",
        "x_real_1= optimize.brentq(f1, 0, 2)\n",
        "x_real_2 = optimize.brentq(f2, 0, 2)\n",
        "x_real_3 = optimize.brentq(f3, 0, 2)\n",
        "\n",
        "\n",
        "def constante_asintotica(metodos, raiz):\n",
        "  #armo una lista con 4 diccionarios donde en cada uno se guarda una lista con el log del error por cada iteracion que hace el metodo\n",
        "  info_grafico = [{'l': []}, {'l': []}, {'l': []}, {'l': []}, {'l': []}] \n",
        "  #por cada metodo\n",
        "  for i, metodo in enumerate(metodos):\n",
        "    #por cada iteracion del metodo\n",
        "    for j in range(2, len(metodo['xn']) - 1):\n",
        "      xn = metodo['xn'][j]\n",
        "      xn_post = metodo['xn'][j+1]\n",
        "      xn_ant = metodo['xn'][j-1]\n",
        "      xn_ant_ant = metodo['xn'][j-2]\n",
        "      orden_convergencia = log( np.abs((xn_post - xn)/(xn - xn_ant)) )/log( np.abs((xn - xn_ant)/(xn_ant - xn_ant_ant)) )\n",
        "      constante_asintotica = abs(xn - raiz)/((abs(xn_ant - raiz))**orden_convergencia)\n",
        "      info_grafico[i]['l'].append(constante_asintotica) \n",
        "  return info_grafico\n",
        "\n",
        "info_grafico_1 = constante_asintotica(metodos1, x_real_1)\n",
        "info_grafico_2 = constante_asintotica(metodos2, x_real_2)\n",
        "info_grafico_3 = constante_asintotica(metodos3, x_real_3)\n",
        "\n",
        "# Configuracion de subplots\n",
        "plt.figure(figsize=(15, 15))\n",
        "s1 = plt.subplot(2, 2, 1)\n",
        "s1.grid()\n",
        "s1.axhline(y=0, color='k')\n",
        "s1.axvline(x=0, color='k')\n",
        "s1.set_xlabel(\"iteraciones\")\n",
        "s1.set_ylabel(\"p\")\n",
        "s1.set_title('f1(x)', fontsize = 22, loc = \"center\")\n",
        "s2 = plt.subplot(2, 2, 2)\n",
        "s2.grid()\n",
        "s2.axhline(y=0, color='k')\n",
        "s2.axvline(x=0, color='k')\n",
        "s2.set_xlabel(\"iteraciones\")\n",
        "s2.set_ylabel(\"p\")\n",
        "s2.set_title('f2(x)', fontsize = 22, loc = \"center\")\n",
        "s3 = plt.subplot(2, 2, 3)\n",
        "s3.grid()\n",
        "s3.axhline(y=0, color='k')\n",
        "s3.axvline(x=0, color='k')\n",
        "s3.set_xlabel(\"iteraciones\")\n",
        "s3.set_ylabel(\"p\")\n",
        "s3.set_title('f3(x)', fontsize = 22, loc = \"center\")\n",
        "\n",
        "\n",
        "colors = ['m', 'b', 'y', 'c', 'r']\n",
        "metodos = ['Biseccion', 'Punto fijo', 'Secante', 'Newton Rapshon', 'Newton Rapshon Modificado']\n",
        "# armo funciones de iteraciones vs log10(|∆x|\n",
        "for i in range(5): #5\n",
        "    iteraciones1 = range(2, len(metodos1[i]['xn']) - 1)\n",
        "    iteraciones2 = range(2, len(metodos2[i]['xn']) - 1)\n",
        "    iteraciones3 = range(2, len(metodos3[i]['xn']) - 1)\n",
        "    s1.plot(iteraciones1, info_grafico_1[i]['l'], colors[i], label=metodos[i])\n",
        "    s2.plot(iteraciones2, info_grafico_2[i]['l'], colors[i], label=metodos[i])\n",
        "    s3.plot(iteraciones3, info_grafico_3[i]['l'], colors[i], label=metodos[i])\n",
        "\n",
        "\n",
        "s1.legend(loc=\"upper right\")\n",
        "s2.legend(loc=\"upper right\")\n",
        "s3.legend(loc=\"upper right\")\n",
        "plt.tight_layout()\n",
        "plt.show()"
      ]
    },
    {
      "cell_type": "markdown",
      "source": [
        "# Constante asintotica vs iteraciones (grafico manipulado)"
      ],
      "metadata": {
        "id": "xAgS2Izfd2cU"
      }
    },
    {
      "cell_type": "markdown",
      "source": [
        "Solo mostramos para el metodo lineal de biseccion, que vemos como tiende a ir hacia 1 la constante asintotica, como lo visto en teoria. En la funcion 3, tambien \"Newton\" y \"Newton modificado\" convergen linealmente con constante 1 y no cuadraticamente, debido a la semilla elegida\n"
      ],
      "metadata": {
        "id": "csF4rmh9d_u5"
      }
    },
    {
      "cell_type": "code",
      "source": [
        "from math import log\n",
        "import numpy as np\n",
        "import matplotlib.pyplot as plt\n",
        "from scipy import optimize\n",
        "\n",
        "x_real_1= optimize.brentq(f1, 0, 2)\n",
        "x_real_2 = optimize.brentq(f2, 0, 2)\n",
        "x_real_3 = optimize.brentq(f3, 0, 2)\n",
        "\n",
        "\n",
        "def constante_asintoticam(metodos, raiz):\n",
        "  #armo una lista con 4 diccionarios donde en cada uno se guarda una lista con el log del error por cada iteracion que hace el metodo\n",
        "  info_grafico = {'i': [[], [], [], [], []], 'l': [[], [], [], [], []]} \n",
        "  #por cada metodo\n",
        "  for i, metodo in enumerate(metodos):\n",
        "    #por cada iteracion del metodo\n",
        "    for j in range(2, len(metodo['xn']) - 1):\n",
        "      xn = metodo['xn'][j]\n",
        "      xn_post = metodo['xn'][j+1]\n",
        "      xn_ant = metodo['xn'][j-1]\n",
        "      xn_ant_ant = metodo['xn'][j-2]\n",
        "      p = log( np.abs((xn_post - xn)/(xn - xn_ant)) )/log( np.abs((xn - xn_ant)/(xn_ant - xn_ant_ant)) )\n",
        "      #if 1 <= p <= 2:\n",
        "      constante_asintotica = abs(xn - raiz)/((abs(xn_ant - raiz))**p)\n",
        "      if 1 <= constante_asintotica <= 2:\n",
        "        info_grafico['i'][i].append(j) \n",
        "        info_grafico['l'][i].append(constante_asintotica)\n",
        "  return info_grafico\n",
        "\n",
        "info_grafico_1 = constante_asintoticam(metodos1m, x_real_1)\n",
        "info_grafico_2 = constante_asintoticam(metodos2m, x_real_2)\n",
        "info_grafico_3 = constante_asintoticam(metodos3m, x_real_3)\n",
        "\n",
        "# Configuracion de subplots\n",
        "plt.figure(figsize=(15, 15))\n",
        "s1 = plt.subplot(2, 2, 1)\n",
        "s1.grid()\n",
        "s1.axhline(y=0, color='k')\n",
        "s1.axvline(x=0, color='k')\n",
        "s1.set_xlabel(\"iteraciones\")\n",
        "s1.set_ylabel(\"p\")\n",
        "s1.set_title('f1(x)', fontsize = 22, loc = \"center\")\n",
        "s2 = plt.subplot(2, 2, 2)\n",
        "s2.grid()\n",
        "s2.axhline(y=0, color='k')\n",
        "s2.axvline(x=0, color='k')\n",
        "s2.set_xlabel(\"iteraciones\")\n",
        "s2.set_ylabel(\"p\")\n",
        "s2.set_title('f2(x)', fontsize = 22, loc = \"center\")\n",
        "s3 = plt.subplot(2, 2, 3)\n",
        "s3.grid()\n",
        "s3.axhline(y=0, color='k')\n",
        "s3.axvline(x=0, color='k')\n",
        "s3.set_xlabel(\"iteraciones\")\n",
        "s3.set_ylabel(\"p\")\n",
        "s3.set_title('f3(x)', fontsize = 22, loc = \"center\")\n",
        "\n",
        "\n",
        "colors = ['m', 'b', 'y', 'c', 'r']\n",
        "metodos = ['Biseccion', 'Punto fijo', 'Secante', 'Newton Rapshon', 'Newton Rapshon Modificado']\n",
        "for i in range(5): #5\n",
        "    if metodos[i] == 'Biseccion':\n",
        "      s1.plot(info_grafico_1['i'][i], info_grafico_1['l'][i], colors[i], label=metodos[i])\n",
        "      s2.plot(info_grafico_2['i'][i], info_grafico_2['l'][i], colors[i], label=metodos[i])\n",
        "    if i == 3 or i == 4:\n",
        "      s3.plot(info_grafico_3['i'][i], info_grafico_3['l'][i], colors[i], label=metodos[i])\n",
        "\n",
        "\n",
        "s1.legend(loc=\"upper right\")\n",
        "s2.legend(loc=\"upper right\")\n",
        "s3.legend(loc=\"upper right\")\n",
        "plt.tight_layout()\n",
        "plt.show()"
      ],
      "metadata": {
        "id": "LWzgumJ8d30R"
      },
      "execution_count": null,
      "outputs": []
    },
    {
      "cell_type": "markdown",
      "metadata": {
        "id": "tal479Xw3379"
      },
      "source": [
        "# `log10(|∆x|) vs iteraciones`"
      ]
    },
    {
      "cell_type": "code",
      "execution_count": null,
      "metadata": {
        "id": "6SnqGsiQ4BoX"
      },
      "outputs": [],
      "source": [
        "from math import log10\n",
        "import numpy as np\n",
        "import matplotlib.pyplot as plt\n",
        "\n",
        "def log_del_error_de_cada_metodo(metodos):\n",
        "  #armo una lista con 4 diccionarios donde en cada uno se guarda una lista con el log del error por cada iteracion que hace el metodo\n",
        "  info_grafico = [{'log_del_error': []}, {'log_del_error': []}, {'log_del_error': []}, {'log_del_error': []}, {'log_del_error': []}] \n",
        "  #por cada metodo\n",
        "  for i, metodo in enumerate(metodos):\n",
        "    #por cada iteracion del metodo\n",
        "    for j in range(1, len(metodo['|xn - xn-1|'])):\n",
        "      if metodo['|xn - xn-1|'][j] != 0:\n",
        "        info_grafico[i]['log_del_error'].append(log10(metodo['|xn - xn-1|'][j]))\n",
        "  return info_grafico\n",
        "\n",
        "info_grafico_1 = log_del_error_de_cada_metodo(metodos1)\n",
        "info_grafico_2 = log_del_error_de_cada_metodo(metodos2)\n",
        "info_grafico_3 = log_del_error_de_cada_metodo(metodos3)\n",
        "\n",
        "# Configuracion de subplots\n",
        "plt.figure(figsize=(15, 15))\n",
        "s1 = plt.subplot(2, 2, 1)\n",
        "s1.grid()\n",
        "s1.axhline(y=0, color='k')\n",
        "s1.axvline(x=0, color='k')\n",
        "s1.set_xlabel(\"iteraciones\")\n",
        "s1.set_ylabel(\"log10(|∆x|)\")\n",
        "s1.set_title('f1(x)', fontsize = 22, loc = \"center\")\n",
        "s2 = plt.subplot(2, 2, 2)\n",
        "s2.grid()\n",
        "s2.axhline(y=0, color='k')\n",
        "s2.axvline(x=0, color='k')\n",
        "s2.set_xlabel(\"iteraciones\")\n",
        "s2.set_ylabel(\"log10(|∆x|)\")\n",
        "s2.set_title('f2(x)', fontsize = 22, loc = \"center\")\n",
        "s3 = plt.subplot(2, 2, 3)\n",
        "s3.grid()\n",
        "s3.axhline(y=0, color='k')\n",
        "s3.axvline(x=0, color='k')\n",
        "s3.set_xlabel(\"iteraciones\")\n",
        "s3.set_ylabel(\"log10(|∆x|)\")\n",
        "s3.set_title('f3(x)', fontsize = 22, loc = \"center\")\n",
        "\n",
        "\n",
        "colors = ['m', 'b', 'y', 'c', 'r']\n",
        "metodos = ['Biseccion', 'Punto fijo', 'Secante', 'Newton Rapshon', 'Newton Rapshon Modificado']\n",
        "\n",
        "# armo funciones de iteraciones vs log10(|∆x|\n",
        "for i in range(5):\n",
        "    iteraciones1 = range(1, len(metodos1[i]['|xn - xn-1|']))\n",
        "    iteraciones2 = range(1, len(metodos2[i]['|xn - xn-1|']))\n",
        "    iteraciones3 = range(1, len(metodos3[i]['|xn - xn-1|']))\n",
        "    s1.plot(iteraciones1, info_grafico_1[i]['log_del_error'], colors[i], label=metodos[i])\n",
        "    s2.plot(iteraciones2, info_grafico_2[i]['log_del_error'], colors[i], label=metodos[i])\n",
        "    if metodos[i] not in ('Biseccion', 'Secante'):\n",
        "      s3.plot(iteraciones3, info_grafico_3[i]['log_del_error'], colors[i], label=metodos[i])\n",
        "\n",
        "\n",
        "s1.legend(loc=\"upper right\")\n",
        "s2.legend(loc=\"upper right\")\n",
        "s3.plot([0], [0], label='Biseccion y secante convergen en la primera iteracion')\n",
        "s3.legend(loc=\"upper right\")\n",
        "\n",
        "plt.tight_layout()\n",
        "plt.show()"
      ]
    },
    {
      "cell_type": "markdown",
      "metadata": {
        "id": "D4JO37ax4Reb"
      },
      "source": [
        "# log10(|xCandidata − xReal|) vs iteraciones"
      ]
    },
    {
      "cell_type": "code",
      "execution_count": null,
      "metadata": {
        "id": "KWQkG_qn4Xgo"
      },
      "outputs": [],
      "source": [
        "from math import log10\n",
        "import numpy as np\n",
        "import matplotlib.pyplot as plt\n",
        "from scipy import optimize\n",
        "\n",
        "x_real_1= optimize.brentq(f1, 0, 2)\n",
        "x_real_2 = optimize.brentq(f2, 0, 2)\n",
        "x_real_3 = optimize.brentq(f3, 0, 2)\n",
        "\n",
        "def log_de_candidata_menos_real(metodos, x_real):\n",
        "  #armo una lista con 4 diccionarios donde en cada uno se guarda una lista con el log del error por cada iteracion que hace el metodo\n",
        "  info_grafico = [{'log_del_error': []}, {'log_del_error': []}, {'log_del_error': []}, {'log_del_error': []},  {'log_del_error': []}] \n",
        "  #por cada metodo\n",
        "  for i, metodo in enumerate(metodos):\n",
        "    #por cada iteracion del metodo\n",
        "    for j in range(1, len(metodo['|xn - xn-1|'])):\n",
        "      if (metodo['xn'][j] != x_real):\n",
        "        info_grafico[i]['log_del_error'].append(log10(np.abs(metodo['xn'][j] - x_real)))\n",
        "  return info_grafico\n",
        "\n",
        "info_grafico_1 = log_de_candidata_menos_real(metodos1, x_real_1)\n",
        "info_grafico_2 = log_de_candidata_menos_real(metodos2, x_real_2)\n",
        "info_grafico_3 = log_de_candidata_menos_real(metodos3, x_real_3)\n",
        "\n",
        "# Configuracion de subplots\n",
        "plt.figure(figsize=(15, 15))\n",
        "s1 = plt.subplot(2, 2, 1)\n",
        "s1.grid()\n",
        "s1.axhline(y=0, color='k')\n",
        "s1.axvline(x=0, color='k')\n",
        "s1.set_xlabel(\"iteraciones\")\n",
        "s1.set_ylabel(\"log10(|xCandidata − xReal|\")\n",
        "s1.set_title('f1(x)', fontsize = 22, loc = \"center\")\n",
        "s2 = plt.subplot(2, 2, 2)\n",
        "s2.grid()\n",
        "s2.axhline(y=0, color='k')\n",
        "s2.axvline(x=0, color='k')\n",
        "s2.set_xlabel(\"iteraciones\")\n",
        "s2.set_ylabel(\"log10(|xCandidata − xReal|)\")\n",
        "s2.set_title('f2(x)', fontsize = 22, loc = \"center\")\n",
        "s3 = plt.subplot(2, 2, 3)\n",
        "s3.grid()\n",
        "s3.axhline(y=0, color='k')\n",
        "s3.axvline(x=0, color='k')\n",
        "s3.set_xlabel(\"iteraciones\")\n",
        "s3.set_ylabel(\"log10(|xCandidata − xReal|)\")\n",
        "s3.set_title('f3(x)', fontsize = 22, loc = \"center\")\n",
        "\n",
        "\n",
        "\n",
        "colors = ['m', 'b', 'y', 'c', 'r']\n",
        "metodos = ['Biseccion', 'Punto fijo', 'Secante', 'Newton Rapshon', 'Newton Rapshon Modificado']\n",
        "\n",
        "# armo funciones de iteraciones vs log10(|∆x|\n",
        "for i in range(5): #5\n",
        "    iteraciones1 = range(1, len(metodos1[i]['xn']))\n",
        "    iteraciones2 = range(1, len(metodos2[i]['xn']))\n",
        "    iteraciones3 = range(1, len(metodos3[i]['xn']))\n",
        "    s1.plot(iteraciones1, info_grafico_1[i]['log_del_error'], colors[i], label=metodos[i])\n",
        "    s2.plot(iteraciones2, info_grafico_2[i]['log_del_error'], colors[i], label=metodos[i])\n",
        "    if metodos[i] not in ('Biseccion', 'Secante'):\n",
        "      s3.plot(iteraciones3, info_grafico_3[i]['log_del_error'], colors[i], label=metodos[i])\n",
        "\n",
        "\n",
        "s1.legend(loc=\"upper right\")\n",
        "s2.legend(loc=\"upper right\")\n",
        "s3.plot([0], [0], label='Biseccion y secante convergen en la primera iteracion')\n",
        "s3.legend(loc=\"upper right\")\n",
        "\n",
        "plt.tight_layout()\n",
        "plt.show()"
      ]
    }
  ],
  "metadata": {
    "colab": {
      "collapsed_sections": [],
      "provenance": []
    },
    "kernelspec": {
      "display_name": "Python 3",
      "name": "python3"
    },
    "language_info": {
      "name": "python"
    }
  },
  "nbformat": 4,
  "nbformat_minor": 0
}