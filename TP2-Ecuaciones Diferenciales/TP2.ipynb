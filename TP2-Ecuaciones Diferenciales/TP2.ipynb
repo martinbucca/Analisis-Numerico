{
  "nbformat": 4,
  "nbformat_minor": 0,
  "metadata": {
    "colab": {
      "provenance": []
    },
    "kernelspec": {
      "name": "python3",
      "display_name": "Python 3"
    },
    "language_info": {
      "name": "python"
    }
  },
  "cells": [
    {
      "cell_type": "markdown",
      "source": [
        "# 1."
      ],
      "metadata": {
        "id": "T92BUVZ--yRp"
      }
    },
    {
      "cell_type": "code",
      "source": [
        "from math import sin\n",
        "import math\n",
        "import matplotlib.pyplot as plt\n",
        "import pandas as pd\n",
        "from tabulate import tabulate\n",
        "import numpy as np\n",
        "\n",
        "global B \n",
        "global M\n",
        "global L\n",
        "G = 9.81"
      ],
      "metadata": {
        "id": "hBPCctVC8UED"
      },
      "execution_count": 2,
      "outputs": []
    },
    {
      "cell_type": "code",
      "source": [
        "def f(x, y, u):\n",
        "    return -((B/M) * u) - ((G/L) * sin(y))"
      ],
      "metadata": {
        "id": "GOEWnPZ88cXo"
      },
      "execution_count": 3,
      "outputs": []
    },
    {
      "cell_type": "code",
      "source": [
        "def calcular_yn_siguiente(yn, h, m1, m2, m3, m4):\n",
        "    return yn + (h/6) * (m1 + 2 * m2 + 2 * m3 + m4)\n",
        "\n",
        "def calcular_un_siguiente(un, h,k1, k2, k3, k4):\n",
        "    return un + (h/6) * (k1 + 2 * k2 + 2 * k3 + k4)"
      ],
      "metadata": {
        "id": "c2NeH1cq8gUY"
      },
      "execution_count": 4,
      "outputs": []
    },
    {
      "cell_type": "code",
      "source": [
        "def calcular_m_y_k(xn, yn, un, f, h):\n",
        "    m1 = un\n",
        "    k1 = f(xn, yn ,un)\n",
        "    m2 = un + (h * k1) / 2\n",
        "    k2 = f(xn + h/2, yn + (h * m1) / 2, un + (h * k1) / 2)\n",
        "    m3 = un + (h * k2) / 2\n",
        "    k3 = f(xn + h/2, yn + (h * m2) / 2, un + (h * k2) / 2)\n",
        "    m4 = un + h * k3\n",
        "    k4 = f (xn + h, yn + (h * m3), un + (h * k3))\n",
        "    return {'m1': m1, 'm2': m2, 'm3': m3, 'm4': m4, 'k1': k1, 'k2': k2, 'k3': k3, 'k4': k4}"
      ],
      "metadata": {
        "id": "1Acl07KQ8jZG"
      },
      "execution_count": 5,
      "outputs": []
    },
    {
      "cell_type": "code",
      "source": [
        "def resolver_ecuacion_diferencial(f, x_inicial, x_final, h, y0, yy0):\n",
        "    resultado = {'t[s]': [], 'θ[Rad]': [], 'θʹ[Rad/s]': []}\n",
        "    xn = x_inicial\n",
        "    yn = math.radians(y0)\n",
        "    un = math.radians(yy0)\n",
        "    while xn <= x_final:\n",
        "        resultado['t[s]'].append(xn)\n",
        "        resultado['θ[Rad]'].append(yn)\n",
        "        resultado['θʹ[Rad/s]'].append(un)       \n",
        "        m_y_k = calcular_m_y_k(xn, yn, un, f, h)\n",
        "        yn_sig = calcular_yn_siguiente(yn, h, m_y_k['m1'], m_y_k['m2'], m_y_k['m3'], m_y_k['m4'])\n",
        "        un_sig = calcular_un_siguiente(un, h, m_y_k['k1'], m_y_k['k2'], m_y_k['k3'], m_y_k['k4'])\n",
        "        yn = yn_sig\n",
        "        un = un_sig\n",
        "        xn = xn + h\n",
        "    return resultado"
      ],
      "metadata": {
        "id": "gBDW4hen8mRi"
      },
      "execution_count": 6,
      "outputs": []
    },
    {
      "cell_type": "code",
      "source": [
        "def obtener_tabla_reducida(resultados_de_ecuacion_diferencial):\n",
        "  largo_de_listas_en_tabla = len(resultados_de_ecuacion_diferencial['t[s]'])\n",
        "\n",
        "  if largo_de_listas_en_tabla <= 10:\n",
        "    return resultados_de_ecuacion_diferencial\n",
        "  else:\n",
        "    #agrego primeros 5 y ultimos 5\n",
        "    tabla_reducida = {}\n",
        "    tabla_reducida['t[s]'] = resultados_de_ecuacion_diferencial['t[s]'][0:6]\n",
        "    tabla_reducida['t[s]'].extend(resultados_de_ecuacion_diferencial['t[s]'][largo_de_listas_en_tabla - 6:])\n",
        "    tabla_reducida['θ[Rad]'] = resultados_de_ecuacion_diferencial['θ[Rad]'][0:6]\n",
        "    tabla_reducida['θ[Rad]'].extend(resultados_de_ecuacion_diferencial['θ[Rad]'][largo_de_listas_en_tabla - 6:])\n",
        "    tabla_reducida['θʹ[Rad/s]'] = resultados_de_ecuacion_diferencial['θʹ[Rad/s]'][0:6]\n",
        "    tabla_reducida['θʹ[Rad/s]'].extend(resultados_de_ecuacion_diferencial['θʹ[Rad/s]'][largo_de_listas_en_tabla - 6:])\n",
        "    return tabla_reducida"
      ],
      "metadata": {
        "id": "eKxpfh9u_5BD"
      },
      "execution_count": 7,
      "outputs": []
    },
    {
      "cell_type": "code",
      "source": [
        "def settear_constantes(m, l, b):\n",
        "  #cambio las variable globales asi no es necesario pasarle como parametro a la funcion f las constantes m,l y b\n",
        "  #cada vez que se la llama\n",
        "  global M\n",
        "  global B\n",
        "  global L\n",
        "  M = m\n",
        "  B = b\n",
        "  L = l"
      ],
      "metadata": {
        "id": "2X2Eruh0iBxo"
      },
      "execution_count": 8,
      "outputs": []
    },
    {
      "cell_type": "code",
      "source": [
        "def pasar_radianes_a_grados(datos):\n",
        "  #pasa todos los datos de una lista que estan en radianes a grados\n",
        "  resultado = []\n",
        "  for dato in datos:\n",
        "    resultado.append(math.degrees(dato))\n",
        "  return resultado"
      ],
      "metadata": {
        "id": "2tya94BV5Y0G"
      },
      "execution_count": 9,
      "outputs": []
    },
    {
      "cell_type": "code",
      "source": [
        "def resolver_pendulo_rg4(m, l, b, h, y0, yy0):\n",
        "  settear_constantes(m, l, b)\n",
        "  df = pd.DataFrame(obtener_tabla_reducida(resolver_ecuacion_diferencial(f, 0, 20, h, y0, yy0)))\n",
        "  print(tabulate(df, showindex= False,headers = 'keys', tablefmt=\"fancy_grid\", floatfmt=(\".1f\", \".13f\", \".13f\")))\n",
        "\n"
      ],
      "metadata": {
        "id": "w5GSjBe3FA0H"
      },
      "execution_count": 10,
      "outputs": []
    },
    {
      "cell_type": "markdown",
      "source": [
        "# 2."
      ],
      "metadata": {
        "id": "cvfAIl4S-srn"
      }
    },
    {
      "cell_type": "markdown",
      "source": [
        "## a) Sistema no amortiguado"
      ],
      "metadata": {
        "id": "KNThGCl5XZ-A"
      }
    },
    {
      "cell_type": "code",
      "source": [
        "resolver_pendulo_rg4(1, 1, 1, 0.2, 30, 0)"
      ],
      "metadata": {
        "id": "zuvBDsF4XY-X"
      },
      "execution_count": null,
      "outputs": []
    },
    {
      "cell_type": "code",
      "source": [
        "settear_constantes(1, 1, 0)\n",
        "info = resolver_ecuacion_diferencial(f, 0, 20, 0.2, 30, 0)\n",
        "x = np.arange(0, 20.2, 0.2)\n",
        "y_angulo = pasar_radianes_a_grados(info['θ[Rad]'])\n",
        "y_vel_angular = pasar_radianes_a_grados(info['θʹ[Rad/s]'])\n",
        "plt.plot(x, y_angulo, color = 'r', label = 'Angulo')\n",
        "plt.plot(x, y_vel_angular, color = 'b', label = 'Velocidad angular')\n",
        "plt.ylim(-100, 100)\n",
        "plt.xlim(0, 20)\n",
        "plt.axhline(y=0, color='k')\n",
        "plt.axvline(x=0, color='k')\n",
        "plt.legend()\n",
        "plt.grid()\n",
        "plt.xlabel('t [s]')\n",
        "plt.ylabel('θ [°]     θʹ [°/s]')\n",
        "plt.show()"
      ],
      "metadata": {
        "id": "gHLmjcC2iP7r"
      },
      "execution_count": null,
      "outputs": []
    },
    {
      "cell_type": "markdown",
      "source": [
        "## b) Sistema con amortiguamiento subcrítico"
      ],
      "metadata": {
        "id": "x2Y2AIITX05u"
      }
    },
    {
      "cell_type": "code",
      "source": [
        "resolver_pendulo_rg4(1, 1, 0.5, 0.2, 30, 100)"
      ],
      "metadata": {
        "id": "T3yCV0K8j44M"
      },
      "execution_count": null,
      "outputs": []
    },
    {
      "cell_type": "code",
      "source": [
        "settear_constantes(1, 1, 0.5)\n",
        "info = resolver_ecuacion_diferencial(f, 0, 20, 0.2, 30, 100)\n",
        "x = np.arange(0, 20.2, 0.2)\n",
        "y_angulo = pasar_radianes_a_grados(info['θ[Rad]'])\n",
        "y_vel_angular = pasar_radianes_a_grados(info['θʹ[Rad/s]'])\n",
        "plt.plot(x, y_angulo, color = 'r', label = 'Angulo')\n",
        "plt.plot(x, y_vel_angular, color = 'b', label = 'Velocidad angular')\n",
        "plt.ylim(-150, 150)\n",
        "plt.xlim(0, 20)\n",
        "plt.axhline(y=0, color='k')\n",
        "plt.axvline(x=0, color='k')\n",
        "plt.legend()\n",
        "plt.grid()\n",
        "plt.xlabel('t [s]')\n",
        "plt.ylabel('θ [°]     θʹ [°/s]')\n",
        "plt.show()"
      ],
      "metadata": {
        "id": "hz-RmRT4i74N"
      },
      "execution_count": null,
      "outputs": []
    }
  ]
}